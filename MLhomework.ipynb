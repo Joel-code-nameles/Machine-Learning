{
 "cells": [
  {
   "cell_type": "code",
   "execution_count": 3,
   "id": "4c7201ff-f91a-4644-896e-553916f9ae98",
   "metadata": {},
   "outputs": [],
   "source": [
    "import numpy as ny"
   ]
  },
  {
   "cell_type": "code",
   "execution_count": 4,
   "id": "ffb4a3df-db9a-4d1b-94d9-24f095f410c2",
   "metadata": {},
   "outputs": [],
   "source": [
    "List = [12, 15, 21, 13, 18, 14, 17, 20, 19, 16]"
   ]
  },
  {
   "cell_type": "code",
   "execution_count": 5,
   "id": "8bf09a7e-3d70-4a21-b873-a4f501740c72",
   "metadata": {},
   "outputs": [],
   "source": [
    "dev = ny.mean(List)"
   ]
  },
  {
   "cell_type": "code",
   "execution_count": 7,
   "id": "74005628-04dc-4e5c-a3fc-ae39bfd22988",
   "metadata": {},
   "outputs": [
    {
     "name": "stdout",
     "output_type": "stream",
     "text": [
      "16.5\n"
     ]
    }
   ],
   "source": [
    "print(dev)\n",
    "\n",
    "# Medium"
   ]
  },
  {
   "cell_type": "code",
   "execution_count": 17,
   "id": "35cf1d35-e7c7-4024-9cb1-93413feb1dad",
   "metadata": {},
   "outputs": [],
   "source": [
    "dev1 = ny.median(List)"
   ]
  },
  {
   "cell_type": "code",
   "execution_count": 18,
   "id": "5851c653-8edf-4fa0-be40-d02d06f3ee38",
   "metadata": {},
   "outputs": [
    {
     "name": "stdout",
     "output_type": "stream",
     "text": [
      "16.5\n"
     ]
    }
   ],
   "source": [
    "print(dev1)"
   ]
  },
  {
   "cell_type": "code",
   "execution_count": 11,
   "id": "99b5fae4-496b-4307-b08c-f09e90d9a3aa",
   "metadata": {},
   "outputs": [],
   "source": [
    "# STD"
   ]
  },
  {
   "cell_type": "code",
   "execution_count": 12,
   "id": "a5b89cb8-5200-4915-8571-617617502002",
   "metadata": {},
   "outputs": [],
   "source": [
    "dev2 = ny.std(List)"
   ]
  },
  {
   "cell_type": "code",
   "execution_count": 21,
   "id": "9c4695ae-6edc-4d0f-8a3b-ab5882fc5948",
   "metadata": {},
   "outputs": [
    {
     "name": "stdout",
     "output_type": "stream",
     "text": [
      "2.8722813232690143\n"
     ]
    }
   ],
   "source": [
    "print(dev2)\n",
    "\n",
    "#Percentile"
   ]
  },
  {
   "cell_type": "code",
   "execution_count": 19,
   "id": "bcd6e156-2e64-4c73-aca4-2be112e4cf07",
   "metadata": {},
   "outputs": [],
   "source": [
    "dev3 = ny.percentile(List, 25)"
   ]
  },
  {
   "cell_type": "code",
   "execution_count": 20,
   "id": "ed414cef-3964-4e36-997a-33380f020437",
   "metadata": {},
   "outputs": [
    {
     "name": "stdout",
     "output_type": "stream",
     "text": [
      "14.25\n"
     ]
    }
   ],
   "source": [
    "print(dev3)"
   ]
  },
  {
   "cell_type": "code",
   "execution_count": 22,
   "id": "afdfa7d2-512d-4ab3-b706-9dca1dabff11",
   "metadata": {},
   "outputs": [],
   "source": [
    "dev4 = ny.percentile(List, 50)"
   ]
  },
  {
   "cell_type": "code",
   "execution_count": 23,
   "id": "360b4dac-21ee-4666-afdc-e505204b7b21",
   "metadata": {},
   "outputs": [
    {
     "name": "stdout",
     "output_type": "stream",
     "text": [
      "16.5\n"
     ]
    }
   ],
   "source": [
    "print(dev4)"
   ]
  },
  {
   "cell_type": "code",
   "execution_count": 24,
   "id": "79a573b1-4c67-40b2-95bc-0169c11dc2c4",
   "metadata": {},
   "outputs": [],
   "source": [
    "dev5 = ny.percentile(List, 75)"
   ]
  },
  {
   "cell_type": "code",
   "execution_count": 25,
   "id": "aa7259db-9bce-436d-b558-0d9a414e6031",
   "metadata": {},
   "outputs": [
    {
     "name": "stdout",
     "output_type": "stream",
     "text": [
      "18.75\n"
     ]
    }
   ],
   "source": [
    "print(dev5)"
   ]
  },
  {
   "cell_type": "code",
   "execution_count": null,
   "id": "82804243-88a1-42e2-8fb2-fc41cdb0c8da",
   "metadata": {},
   "outputs": [],
   "source": []
  }
 ],
 "metadata": {
  "kernelspec": {
   "display_name": "Python [conda env:base] *",
   "language": "python",
   "name": "conda-base-py"
  },
  "language_info": {
   "codemirror_mode": {
    "name": "ipython",
    "version": 3
   },
   "file_extension": ".py",
   "mimetype": "text/x-python",
   "name": "python",
   "nbconvert_exporter": "python",
   "pygments_lexer": "ipython3",
   "version": "3.10.9"
  }
 },
 "nbformat": 4,
 "nbformat_minor": 5
}
