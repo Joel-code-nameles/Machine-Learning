{
 "cells": [
  {
   "cell_type": "code",
   "execution_count": 5,
   "id": "2117a85c",
   "metadata": {},
   "outputs": [
    {
     "name": "stdout",
     "output_type": "stream",
     "text": [
      "Counrty: India\n",
      "India: 1,417,173,173\n"
     ]
    }
   ],
   "source": [
    "import json\n",
    "\n",
    "with open('population.json',\"r\") as population:\n",
    "    Popul = json.load(population)\n",
    "    person = input(\"Counrty: \")\n",
    "    for data in Popul:\n",
    "        if data['Country'] == person:\n",
    "            print(f\"{person}: {data['Population']}\")"
   ]
  },
  {
   "cell_type": "code",
   "execution_count": null,
   "id": "29aa1a40",
   "metadata": {},
   "outputs": [],
   "source": []
  }
 ],
 "metadata": {
  "kernelspec": {
   "display_name": "Python 3 (ipykernel)",
   "language": "python",
   "name": "python3"
  },
  "language_info": {
   "codemirror_mode": {
    "name": "ipython",
    "version": 3
   },
   "file_extension": ".py",
   "mimetype": "text/x-python",
   "name": "python",
   "nbconvert_exporter": "python",
   "pygments_lexer": "ipython3",
   "version": "3.10.9"
  }
 },
 "nbformat": 4,
 "nbformat_minor": 5
}
