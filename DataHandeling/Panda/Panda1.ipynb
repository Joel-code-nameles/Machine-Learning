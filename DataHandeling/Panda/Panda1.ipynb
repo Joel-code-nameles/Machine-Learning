{
 "cells": [
  {
   "cell_type": "code",
   "execution_count": 1,
   "id": "ae79e456",
   "metadata": {},
   "outputs": [],
   "source": [
    "import pandas as pd"
   ]
  },
  {
   "cell_type": "code",
   "execution_count": 5,
   "id": "c8f179f6",
   "metadata": {},
   "outputs": [],
   "source": [
    "# dataframe = pd.read_csv('World Population Live Dataset.csv')\n",
    "\n",
    "# print(dataframe.to_string())"
   ]
  },
  {
   "cell_type": "code",
   "execution_count": 13,
   "id": "695794ea",
   "metadata": {},
   "outputs": [],
   "source": [
    "dataset = {\n",
    "    'cars': [\"BMW\",\"Volovo\",\"Ford\"],\n",
    "    'Passings': [3,7,2] \n",
    "}\n",
    "\n",
    "myvar = pd.DataFrame(dataset)\n",
    "\n",
    "print(myvar)"
   ]
  },
  {
   "cell_type": "code",
   "execution_count": 12,
   "id": "87b7bdf0",
   "metadata": {},
   "outputs": [],
   "source": [
    "#  JakesPerfectSandwich = {\n",
    "#      'Sandwich':  ['Bacon', 'Beef',\"letteuce\",\"Big-patty\",\"Barbecue-Sauce\",\"Buns\"],\n",
    "#      'Amount':[16,1,3,2,'2 pints',2]\n",
    "#  }\n",
    "    \n",
    "# myvar = pd.DataFrame(JakesPerfectSandwich)\n",
    "\n",
    "# print(myvar)"
   ]
  },
  {
   "cell_type": "code",
   "execution_count": 14,
   "id": "74b30c53",
   "metadata": {},
   "outputs": [
    {
     "name": "stdout",
     "output_type": "stream",
     "text": [
      "0    0\n",
      "1    1\n",
      "2    2\n",
      "3    3\n",
      "4    4\n",
      "5    5\n",
      "6    6\n",
      "7    7\n",
      "8    8\n",
      "9    9\n",
      "dtype: int64\n"
     ]
    }
   ],
   "source": [
    "data = [0,1,2,3,4,5,6,7,8,9]\n",
    "\n",
    "myvar = pd.Series(data)\n",
    "print(myvar)"
   ]
  },
  {
   "cell_type": "code",
   "execution_count": null,
   "id": "55511e17",
   "metadata": {},
   "outputs": [],
   "source": []
  }
 ],
 "metadata": {
  "kernelspec": {
   "display_name": "Python 3 (ipykernel)",
   "language": "python",
   "name": "python3"
  },
  "language_info": {
   "codemirror_mode": {
    "name": "ipython",
    "version": 3
   },
   "file_extension": ".py",
   "mimetype": "text/x-python",
   "name": "python",
   "nbconvert_exporter": "python",
   "pygments_lexer": "ipython3",
   "version": "3.10.9"
  }
 },
 "nbformat": 4,
 "nbformat_minor": 5
}
