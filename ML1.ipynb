{
 "cells": [
  {
   "cell_type": "code",
   "execution_count": 10,
   "id": "d665bd92-a079-48a8-a885-a597f2e77118",
   "metadata": {},
   "outputs": [],
   "source": [
    "import numpy as np"
   ]
  },
  {
   "cell_type": "code",
   "execution_count": 16,
   "id": "350e5006-0940-4cfb-8308-3d252b86acbd",
   "metadata": {},
   "outputs": [],
   "source": [
    "fries_per_countrie = [13,11,8]"
   ]
  },
  {
   "cell_type": "code",
   "execution_count": 17,
   "id": "a07ccb12-d4a3-4be0-b252-5de6c0d61e22",
   "metadata": {},
   "outputs": [],
   "source": [
    "dev = np.var(fries_per_countrie)"
   ]
  },
  {
   "cell_type": "code",
   "execution_count": 18,
   "id": "f2b14559-0bf0-42fd-a80b-e515553fac08",
   "metadata": {},
   "outputs": [
    {
     "name": "stdout",
     "output_type": "stream",
     "text": [
      "4.222222222222222\n"
     ]
    }
   ],
   "source": [
    "print(dev)"
   ]
  },
  {
   "cell_type": "code",
   "execution_count": null,
   "id": "79ff13ec-2fed-4ad3-9c0f-e16b87b57dde",
   "metadata": {},
   "outputs": [],
   "source": []
  }
 ],
 "metadata": {
  "kernelspec": {
   "display_name": "Python [conda env:base] *",
   "language": "python",
   "name": "conda-base-py"
  },
  "language_info": {
   "codemirror_mode": {
    "name": "ipython",
    "version": 3
   },
   "file_extension": ".py",
   "mimetype": "text/x-python",
   "name": "python",
   "nbconvert_exporter": "python",
   "pygments_lexer": "ipython3",
   "version": "3.10.9"
  }
 },
 "nbformat": 4,
 "nbformat_minor": 5
}
