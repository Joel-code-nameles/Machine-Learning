{
 "cells": [
  {
   "cell_type": "code",
   "execution_count": 2,
   "id": "dc035ee0-a70b-4250-8881-f70853741397",
   "metadata": {},
   "outputs": [],
   "source": [
    "import pandas as pd\n",
    "import matplotlib.pyplot as plt\n",
    "from scipy import stats"
   ]
  },
  {
   "cell_type": "code",
   "execution_count": 3,
   "id": "db01b90a-9241-4956-a34e-7d65aab0a59c",
   "metadata": {},
   "outputs": [
    {
     "data": {
      "text/html": [
       "<div>\n",
       "<style scoped>\n",
       "    .dataframe tbody tr th:only-of-type {\n",
       "        vertical-align: middle;\n",
       "    }\n",
       "\n",
       "    .dataframe tbody tr th {\n",
       "        vertical-align: top;\n",
       "    }\n",
       "\n",
       "    .dataframe thead th {\n",
       "        text-align: right;\n",
       "    }\n",
       "</style>\n",
       "<table border=\"1\" class=\"dataframe\">\n",
       "  <thead>\n",
       "    <tr style=\"text-align: right;\">\n",
       "      <th></th>\n",
       "      <th>Date</th>\n",
       "      <th>Temperature</th>\n",
       "      <th>Humidity</th>\n",
       "      <th>WindSpeed</th>\n",
       "      <th>Rainfall</th>\n",
       "    </tr>\n",
       "  </thead>\n",
       "  <tbody>\n",
       "    <tr>\n",
       "      <th>0</th>\n",
       "      <td>2024-01-01</td>\n",
       "      <td>30.2</td>\n",
       "      <td>65</td>\n",
       "      <td>12</td>\n",
       "      <td>0.0</td>\n",
       "    </tr>\n",
       "    <tr>\n",
       "      <th>1</th>\n",
       "      <td>2024-01-02</td>\n",
       "      <td>29.8</td>\n",
       "      <td>70</td>\n",
       "      <td>10</td>\n",
       "      <td>1.2</td>\n",
       "    </tr>\n",
       "    <tr>\n",
       "      <th>2</th>\n",
       "      <td>2024-01-03</td>\n",
       "      <td>28.5</td>\n",
       "      <td>80</td>\n",
       "      <td>8</td>\n",
       "      <td>5.4</td>\n",
       "    </tr>\n",
       "    <tr>\n",
       "      <th>3</th>\n",
       "      <td>2024-01-04</td>\n",
       "      <td>27.0</td>\n",
       "      <td>85</td>\n",
       "      <td>6</td>\n",
       "      <td>12.0</td>\n",
       "    </tr>\n",
       "    <tr>\n",
       "      <th>4</th>\n",
       "      <td>2024-01-05</td>\n",
       "      <td>31.5</td>\n",
       "      <td>60</td>\n",
       "      <td>14</td>\n",
       "      <td>0.0</td>\n",
       "    </tr>\n",
       "    <tr>\n",
       "      <th>5</th>\n",
       "      <td>2024-01-06</td>\n",
       "      <td>32.1</td>\n",
       "      <td>58</td>\n",
       "      <td>16</td>\n",
       "      <td>0.0</td>\n",
       "    </tr>\n",
       "    <tr>\n",
       "      <th>6</th>\n",
       "      <td>2024-01-07</td>\n",
       "      <td>30.0</td>\n",
       "      <td>62</td>\n",
       "      <td>13</td>\n",
       "      <td>0.0</td>\n",
       "    </tr>\n",
       "    <tr>\n",
       "      <th>7</th>\n",
       "      <td>2024-01-08</td>\n",
       "      <td>26.4</td>\n",
       "      <td>90</td>\n",
       "      <td>5</td>\n",
       "      <td>15.6</td>\n",
       "    </tr>\n",
       "    <tr>\n",
       "      <th>8</th>\n",
       "      <td>2024-01-09</td>\n",
       "      <td>25.0</td>\n",
       "      <td>95</td>\n",
       "      <td>4</td>\n",
       "      <td>22.1</td>\n",
       "    </tr>\n",
       "    <tr>\n",
       "      <th>9</th>\n",
       "      <td>2024-01-10</td>\n",
       "      <td>29.0</td>\n",
       "      <td>75</td>\n",
       "      <td>10</td>\n",
       "      <td>2.3</td>\n",
       "    </tr>\n",
       "    <tr>\n",
       "      <th>10</th>\n",
       "      <td>2024-01-11</td>\n",
       "      <td>27.5</td>\n",
       "      <td>82</td>\n",
       "      <td>7</td>\n",
       "      <td>7.0</td>\n",
       "    </tr>\n",
       "    <tr>\n",
       "      <th>11</th>\n",
       "      <td>2024-01-12</td>\n",
       "      <td>30.8</td>\n",
       "      <td>68</td>\n",
       "      <td>11</td>\n",
       "      <td>0.5</td>\n",
       "    </tr>\n",
       "    <tr>\n",
       "      <th>12</th>\n",
       "      <td>2024-01-13</td>\n",
       "      <td>28.2</td>\n",
       "      <td>78</td>\n",
       "      <td>9</td>\n",
       "      <td>4.6</td>\n",
       "    </tr>\n",
       "    <tr>\n",
       "      <th>13</th>\n",
       "      <td>2024-01-14</td>\n",
       "      <td>33.0</td>\n",
       "      <td>55</td>\n",
       "      <td>17</td>\n",
       "      <td>0.0</td>\n",
       "    </tr>\n",
       "    <tr>\n",
       "      <th>14</th>\n",
       "      <td>2024-01-15</td>\n",
       "      <td>24.5</td>\n",
       "      <td>98</td>\n",
       "      <td>3</td>\n",
       "      <td>30.2</td>\n",
       "    </tr>\n",
       "  </tbody>\n",
       "</table>\n",
       "</div>"
      ],
      "text/plain": [
       "          Date  Temperature  Humidity  WindSpeed  Rainfall\n",
       "0   2024-01-01         30.2        65         12       0.0\n",
       "1   2024-01-02         29.8        70         10       1.2\n",
       "2   2024-01-03         28.5        80          8       5.4\n",
       "3   2024-01-04         27.0        85          6      12.0\n",
       "4   2024-01-05         31.5        60         14       0.0\n",
       "5   2024-01-06         32.1        58         16       0.0\n",
       "6   2024-01-07         30.0        62         13       0.0\n",
       "7   2024-01-08         26.4        90          5      15.6\n",
       "8   2024-01-09         25.0        95          4      22.1\n",
       "9   2024-01-10         29.0        75         10       2.3\n",
       "10  2024-01-11         27.5        82          7       7.0\n",
       "11  2024-01-12         30.8        68         11       0.5\n",
       "12  2024-01-13         28.2        78          9       4.6\n",
       "13  2024-01-14         33.0        55         17       0.0\n",
       "14  2024-01-15         24.5        98          3      30.2"
      ]
     },
     "execution_count": 3,
     "metadata": {},
     "output_type": "execute_result"
    }
   ],
   "source": [
    "system = pd.read_csv('weather_dataset.csv')\n",
    "system"
   ]
  },
  {
   "cell_type": "code",
   "execution_count": 4,
   "id": "0479bce9-f985-41a0-9a54-3de8da086072",
   "metadata": {},
   "outputs": [],
   "source": [
    "x = system['Humidity']\n",
    "y = system['Rainfall']"
   ]
  },
  {
   "cell_type": "code",
   "execution_count": 12,
   "id": "5787392e-ca7c-4fcb-86bc-a5997cfa1db9",
   "metadata": {},
   "outputs": [],
   "source": [
    "slope, intercept, r_value, p_value, std_err = stats.linregress(x,y)\n",
    "\n",
    "def fun(x):\n",
    "    return slope * x + intercept\n",
    "\n",
    "model = list(map(fun,x))"
   ]
  },
  {
   "cell_type": "code",
   "execution_count": 13,
   "id": "673d80f4-de7d-4252-b781-e072c15a433d",
   "metadata": {},
   "outputs": [
    {
     "data": {
      "text/plain": [
       "[<matplotlib.lines.Line2D at 0x1f8626c7d30>]"
      ]
     },
     "execution_count": 13,
     "metadata": {},
     "output_type": "execute_result"
    },
    {
     "data": {
      "image/png": "[encoded data removed]",
      "text/plain": [
       "<Figure size 640x480 with 1 Axes>"
      ]
     },
     "metadata": {},
     "output_type": "display_data"
    }
   ],
   "source": [
    "plt.scatter(x,y,marker = 'x',color = 'black')\n",
    "plt.plot(x,model,color = 'green')"
   ]
  },
  {
   "cell_type": "code",
   "execution_count": 15,
   "id": "0bb246a1-e941-48b9-8b8e-2b4c78a0a22f",
   "metadata": {},
   "outputs": [
    {
     "name": "stdout",
     "output_type": "stream",
     "text": [
      "100 22.296387617627396\n",
      "1000 576.890669512007\n",
      "1000000 61582.261677893766\n",
      "1000000000 616215829.4463336\n"
     ]
    }
   ],
   "source": [
    "hundred = fun(100)\n",
    "thousand = fun(1000)\n",
    "million = fun(100000)\n",
    "billion = fun(1000000000)\n",
    "print(f'100 {hundred}')\n",
    "print(f'1000 {thousand}')\n",
    "print(f'1000000 {million}')\n",
    "print(f'1000000000 {billion}')"
   ]
  },
  {
   "cell_type": "code",
   "execution_count": null,
   "id": "822b7d66-b7eb-4039-8216-6c90cde6aefb",
   "metadata": {},
   "outputs": [],
   "source": [
    "# The higher the "
   ]
  }
 ],
 "metadata": {
  "kernelspec": {
   "display_name": "Python [conda env:base] *",
   "language": "python",
   "name": "conda-base-py"
  },
  "language_info": {
   "codemirror_mode": {
    "name": "ipython",
    "version": 3
   },
   "file_extension": ".py",
   "mimetype": "text/x-python",
   "name": "python",
   "nbconvert_exporter": "python",
   "pygments_lexer": "ipython3",
   "version": "3.10.9"
  }
 },
 "nbformat": 4,
 "nbformat_minor": 5
}
